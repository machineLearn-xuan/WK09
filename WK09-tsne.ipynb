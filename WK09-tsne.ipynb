{
 "cells": [
  {
   "cell_type": "markdown",
   "metadata": {},
   "source": [
    "# When t-SNE ?"
   ]
  },
  {
   "cell_type": "code",
   "execution_count": null,
   "metadata": {},
   "outputs": [],
   "source": [
    "!wget -q https://github.com/PSAM-5020-2025S-A/5020-utils/raw/main/src/data_utils.py"
   ]
  },
  {
   "cell_type": "code",
   "execution_count": null,
   "metadata": {},
   "outputs": [],
   "source": [
    "import matplotlib.pyplot as plt\n",
    "import pandas as pd\n",
    "\n",
    "from data_utils import PCA, StandardScaler, TSNE, object_from_json_url"
   ]
  },
  {
   "cell_type": "markdown",
   "metadata": {},
   "source": [
    "### Get Data"
   ]
  },
  {
   "cell_type": "code",
   "execution_count": null,
   "metadata": {},
   "outputs": [],
   "source": [
    "PENGUIN_URL = \"https://raw.githubusercontent.com/PSAM-5020-2025S-A/5020-utils/refs/heads/main/datasets/json/penguins.json\"\n",
    "penguin_data = object_from_json_url(PENGUIN_URL)\n",
    "\n",
    "penguins_df = pd.DataFrame.from_records(penguin_data)\n",
    "penguins_df"
   ]
  },
  {
   "cell_type": "markdown",
   "metadata": {},
   "source": [
    "### Penguin Example\n",
    "\n",
    "Explore the penguin data.\n",
    "\n",
    "Let's encode the species column into integers.\n",
    "It's a simple encoding, so we can just do it manually using a function and the `DataFrame.apply()` command."
   ]
  },
  {
   "cell_type": "code",
   "execution_count": null,
   "metadata": {},
   "outputs": [],
   "source": [
    "species = list(penguins_df[\"species\"].unique())\n",
    "\n",
    "def species_to_label(s):\n",
    "  return species.index(s)\n",
    "\n",
    "penguins_df[\"label\"] = penguins_df[\"species\"].apply(species_to_label)\n",
    "\n",
    "display(penguins_df)\n",
    "penguins_df.shape"
   ]
  },
  {
   "cell_type": "markdown",
   "metadata": {},
   "source": [
    "### Scale Features\n",
    "\n",
    "Choose features to scale and reduce"
   ]
  },
  {
   "cell_type": "code",
   "execution_count": null,
   "metadata": {},
   "outputs": [],
   "source": [
    "# TODO: Separate features from the full DataFrame\n",
    "# TODO: Scale data"
   ]
  },
  {
   "cell_type": "markdown",
   "metadata": {},
   "source": [
    "### PCA\n",
    "\n",
    "We can try to simplify this data by performing `PCA` and combining some of the original features into _principal components_."
   ]
  },
  {
   "cell_type": "code",
   "execution_count": null,
   "metadata": {},
   "outputs": [],
   "source": [
    "# TODO: create PCA with 3 components\n",
    "\n",
    "# TODO: fit+transform\n",
    "\n",
    "# TODO: look at explained variance"
   ]
  },
  {
   "cell_type": "markdown",
   "metadata": {},
   "source": [
    "### Plots"
   ]
  },
  {
   "cell_type": "code",
   "execution_count": null,
   "metadata": {},
   "outputs": [],
   "source": [
    "def plot_2d_3d(mdf, colors=None):\n",
    "  column_names = mdf.columns\n",
    "\n",
    "  # First 2 PCs\n",
    "  plt.scatter(mdf[column_names[0]], mdf[column_names[1]], c=colors)\n",
    "  plt.xlabel(column_names[0])\n",
    "  plt.ylabel(column_names[1])\n",
    "  plt.title(\"2 Components\")\n",
    "  plt.show()\n",
    "\n",
    "  # First 3 PCs\n",
    "  fig = plt.figure(figsize=(8, 8))\n",
    "  ax = fig.add_subplot(projection='3d')\n",
    "\n",
    "  ax.scatter(mdf[column_names[0]],\n",
    "            mdf[column_names[1]],\n",
    "            mdf[column_names[2]],\n",
    "            c=colors)\n",
    "  ax.set_xlabel(column_names[0])\n",
    "  ax.set_ylabel(column_names[1])\n",
    "  ax.set_zlabel(column_names[2])\n",
    "  ax.set_title(\"3 Components\")\n",
    "  plt.show()"
   ]
  },
  {
   "cell_type": "code",
   "execution_count": null,
   "metadata": {},
   "outputs": [],
   "source": [
    "plot_2d_3d(penguins_pca_df, colors=penguins_df[\"label\"])"
   ]
  },
  {
   "cell_type": "markdown",
   "metadata": {},
   "source": [
    "Although it has combined some of the features, we can still see a lot of information from our original data."
   ]
  },
  {
   "cell_type": "markdown",
   "metadata": {},
   "source": [
    "### t-SNE\n",
    "\n",
    "Repeat the above using t-SNE.\n",
    "\n",
    "We already have scaled features, we just have to `fit_transform()` them it with a t-SNE object."
   ]
  },
  {
   "cell_type": "code",
   "execution_count": null,
   "metadata": {},
   "outputs": [],
   "source": [
    "# TODO: create TSNE with 3 components\n",
    "\n",
    "# TODO: fit+transform"
   ]
  },
  {
   "cell_type": "markdown",
   "metadata": {},
   "source": [
    "### Plots"
   ]
  },
  {
   "cell_type": "code",
   "execution_count": null,
   "metadata": {},
   "outputs": [],
   "source": [
    "plot_2d_3d(penguins_tsne_df, colors=penguins_df[\"label\"])"
   ]
  }
 ],
 "metadata": {
  "kernelspec": {
   "display_name": "9103",
   "language": "python",
   "name": "python3"
  },
  "language_info": {
   "codemirror_mode": {
    "name": "ipython",
    "version": 3
   },
   "file_extension": ".py",
   "mimetype": "text/x-python",
   "name": "python",
   "nbconvert_exporter": "python",
   "pygments_lexer": "ipython3",
   "version": "3.10.15"
  }
 },
 "nbformat": 4,
 "nbformat_minor": 2
}
